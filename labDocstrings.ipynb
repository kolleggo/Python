{
 "cells": [
  {
   "cell_type": "code",
   "execution_count": 17,
   "metadata": {},
   "outputs": [
    {
     "name": "stdout",
     "output_type": "stream",
     "text": [
      "Help on function bubbleSort in module __main__:\n",
      "\n",
      "bubbleSort(list, count)\n",
      "    ----------------------------\n",
      "    Функция сортировки пузырьком\n",
      "    ----------------------------\n",
      "    \n",
      "    Описание:\n",
      "        Функция сортирует элементы массива по возрастанию\n",
      "    \n",
      "    Параметры:\n",
      "        list (list): массив данных\n",
      "        count (int): количество элементов массив\n",
      "    \n",
      "    Возвращает:\n",
      "        list (list): отсортированный массив данных\n",
      "\n",
      "Массив рандомных чисел: [16, 54, 38, 84, 67, 66, 92, 49, 32, 98]\n",
      "Отсортированный массив: [16, 32, 38, 49, 54, 66, 67, 84, 92, 98]\n"
     ]
    }
   ],
   "source": [
    "from random import randint\n",
    "\n",
    "def bubbleSort(list, count):\n",
    "    \"\"\"\n",
    "    ----------------------------\n",
    "    Функция сортировки пузырьком\n",
    "    ----------------------------\n",
    "\n",
    "    Описание:\n",
    "        Функция сортирует элементы массива по возрастанию\n",
    "\n",
    "    Параметры:\n",
    "        list (list): массив данных\n",
    "        count (int): количество элементов массив\n",
    "\n",
    "    Возвращает:\n",
    "        list (list): отсортированный массив данных\n",
    "    \"\"\"\n",
    "\n",
    "    for i in range(count-1):\n",
    "        for j in range(count-i-1):\n",
    "            if list[j] > list[j+1]:\n",
    "                list[j], list[j+1] = list[j+1], list[j]\n",
    "    return list\n",
    "\n",
    "help(bubbleSort)\n",
    "\n",
    "N = 10\n",
    "a = []\n",
    "for i in range(N):\n",
    "    a.append(randint(1, 99))\n",
    "print(\"Массив рандомных чисел: \" + str(a))\n",
    "\n",
    "a = bubbleSort(a, N)\n",
    "print(\"Отсортированный массив: \" + str(a))\n"
   ]
  }
 ],
 "metadata": {
  "interpreter": {
   "hash": "54e90448c27e76c7f4df0a833daefb0a1549e26c03ed83ace35a855b38633a16"
  },
  "kernelspec": {
   "display_name": "Python 3.10.4 64-bit",
   "language": "python",
   "name": "python3"
  },
  "language_info": {
   "codemirror_mode": {
    "name": "ipython",
    "version": 3
   },
   "file_extension": ".py",
   "mimetype": "text/x-python",
   "name": "python",
   "nbconvert_exporter": "python",
   "pygments_lexer": "ipython3",
   "version": "3.10.4"
  },
  "orig_nbformat": 4
 },
 "nbformat": 4,
 "nbformat_minor": 2
}
