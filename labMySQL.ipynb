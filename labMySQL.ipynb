{
 "cells": [
  {
   "cell_type": "code",
   "execution_count": 6,
   "metadata": {},
   "outputs": [
    {
     "name": "stdout",
     "output_type": "stream",
     "text": [
      "Collecting pymysql\n",
      "  Using cached PyMySQL-1.0.2-py3-none-any.whl (43 kB)\n",
      "Installing collected packages: pymysql\n",
      "Successfully installed pymysql-1.0.2\n",
      "Note: you may need to restart the kernel to use updated packages.\n"
     ]
    }
   ],
   "source": [
    "%pip install pymysql"
   ]
  },
  {
   "cell_type": "code",
   "execution_count": 52,
   "metadata": {},
   "outputs": [
    {
     "name": "stdout",
     "output_type": "stream",
     "text": [
      "Подключение удачно\n"
     ]
    }
   ],
   "source": [
    "import pymysql\n",
    "\n",
    "try:\n",
    "    connection = pymysql.connect (\n",
    "        host='localhost',\n",
    "        port=3306,\n",
    "        user='root',\n",
    "        password='root'\n",
    "    )\n",
    "    print('Подключение удачно')\n",
    "\n",
    "except Exception as ex:\n",
    "    print('Невозможно подключиться')\n",
    "    print(ex)\n"
   ]
  },
  {
   "cell_type": "code",
   "execution_count": 53,
   "metadata": {},
   "outputs": [
    {
     "name": "stdout",
     "output_type": "stream",
     "text": [
      "CREATE DATABASE TEST_BASE\n",
      "База TEST_BASE создана\n"
     ]
    }
   ],
   "source": [
    "try:\n",
    "    with connection.cursor() as cursor:\n",
    "        create_database_query = 'CREATE DATABASE TEST_BASE'\n",
    "        print(create_database_query)\n",
    "        cursor.execute(create_database_query)\n",
    "        connection.commit()\n",
    "        print('База TEST_BASE создана')\n",
    "except Exception as ex:\n",
    "    print(\"База TEST_BASE уже создана\")"
   ]
  },
  {
   "cell_type": "code",
   "execution_count": 64,
   "metadata": {},
   "outputs": [
    {
     "name": "stdout",
     "output_type": "stream",
     "text": [
      "SHOW DATABASES\n",
      "('information_schema',)\n",
      "('mysql',)\n",
      "('performance_schema',)\n",
      "('sakila',)\n",
      "('sys',)\n",
      "('world',)\n"
     ]
    }
   ],
   "source": [
    "try:\n",
    "    with connection.cursor() as cursor:\n",
    "        show_databases_query = 'SHOW DATABASES'\n",
    "        print(show_databases_query)\n",
    "        cursor.execute(show_databases_query)\n",
    "        rows = cursor.fetchall()\n",
    "        for row in rows:\n",
    "            print(row)\n",
    "except Exception as ex:\n",
    "    print(ex)"
   ]
  },
  {
   "cell_type": "code",
   "execution_count": 55,
   "metadata": {},
   "outputs": [
    {
     "name": "stdout",
     "output_type": "stream",
     "text": [
      "\n",
      "        CREATE TABLE TEST_BASE.EXAMPLE (\n",
      "            id int not null AUTO_INCREMENT, \n",
      "            name CHAR(255), \n",
      "            surname CHAR(255),\n",
      "            primary key (id)\n",
      "        )\n",
      "        \n",
      "Таблица TEST_BASE.EXAMPLE создана\n"
     ]
    }
   ],
   "source": [
    "try:\n",
    "    with connection.cursor() as cursor:\n",
    "\n",
    "        create_table_query = \"\"\"\n",
    "        CREATE TABLE TEST_BASE.EXAMPLE (\n",
    "            id int not null AUTO_INCREMENT, \n",
    "            name CHAR(255), \n",
    "            surname CHAR(255),\n",
    "            primary key (id)\n",
    "        )\n",
    "        \"\"\"\n",
    "\n",
    "        print(create_table_query)\n",
    "        cursor.execute(create_table_query)\n",
    "        connection.commit()\n",
    "        print('Таблица TEST_BASE.EXAMPLE создана')\n",
    "except Exception as ex:\n",
    "    print(\"Таблица TEST_BASE.EXAMPLE уже находится в базе данных\")"
   ]
  },
  {
   "cell_type": "code",
   "execution_count": 56,
   "metadata": {},
   "outputs": [
    {
     "name": "stdout",
     "output_type": "stream",
     "text": [
      "\n",
      "        INSERT INTO TEST_BASE.EXAMPLE (\n",
      "            name, \n",
      "            surname\n",
      "        ) VALUES\n",
      "            (\"Николай\", \"Виноградов\"),\n",
      "            (\"Женя\", \"Златковская\"),\n",
      "            (\"Мария\", \"Большакова\"),\n",
      "            (\"Владимир\", \"Белов\"),\n",
      "            (\"Шахруз\", \"Титов\")\n",
      "        \n",
      "Данные помещены в таблицу TEST_BASE.EXAMPLE\n"
     ]
    }
   ],
   "source": [
    "try:\n",
    "    with connection.cursor() as cursor:\n",
    "\n",
    "        insert_into_query = \"\"\"\n",
    "        INSERT INTO TEST_BASE.EXAMPLE (\n",
    "            name, \n",
    "            surname\n",
    "        ) VALUES\n",
    "            (\"Николай\", \"Виноградов\"),\n",
    "            (\"Женя\", \"Златковская\"),\n",
    "            (\"Мария\", \"Большакова\"),\n",
    "            (\"Владимир\", \"Белов\"),\n",
    "            (\"Шахруз\", \"Титов\")\n",
    "        \"\"\"\n",
    "        print(insert_into_query)\n",
    "        cursor.execute(insert_into_query)\n",
    "        connection.commit()\n",
    "        print('Данные помещены в таблицу TEST_BASE.EXAMPLE')\n",
    "except Exception as ex:\n",
    "    print(\"Не получается внести данных\")\n",
    "    print(ex)"
   ]
  },
  {
   "cell_type": "code",
   "execution_count": 61,
   "metadata": {},
   "outputs": [
    {
     "name": "stdout",
     "output_type": "stream",
     "text": [
      "SELECT * FROM TEST_BASE.EXAMPLE\n",
      "(1, 'Николай', 'Виноградов')\n",
      "(2, 'Женя', 'Златковская')\n",
      "(3, 'Мария', 'Большакова')\n",
      "(4, 'Вова', 'Белов')\n"
     ]
    }
   ],
   "source": [
    "try:\n",
    "    with connection.cursor() as cursor:\n",
    "        select_all_table_query = 'SELECT * FROM TEST_BASE.EXAMPLE'\n",
    "        print(select_all_table_query)\n",
    "        cursor.execute(select_all_table_query)\n",
    "        rows = cursor.fetchall()\n",
    "        for row in rows:\n",
    "            print(row)\n",
    "except Exception as ex:\n",
    "    print(ex)"
   ]
  },
  {
   "cell_type": "code",
   "execution_count": 58,
   "metadata": {},
   "outputs": [
    {
     "name": "stdout",
     "output_type": "stream",
     "text": [
      "UPDATE TEST_BASE.EXAMPLE SET name = 'Вова' WHERE name = 'Владимир' and surname = 'Белов'\n",
      "Данные в таблицы обновлены\n"
     ]
    }
   ],
   "source": [
    "try:\n",
    "    with connection.cursor() as cursor:\n",
    "        update_table_query = \"UPDATE TEST_BASE.EXAMPLE SET name = 'Вова' WHERE name = 'Владимир' and surname = 'Белов'\"\n",
    "        print(update_table_query)\n",
    "        cursor.execute(update_table_query)\n",
    "        connection.commit()\n",
    "        print(\"Данные в таблицы обновлены\")\n",
    "except Exception as ex:\n",
    "    print(\"Не получается обновить данные\")\n"
   ]
  },
  {
   "cell_type": "code",
   "execution_count": 60,
   "metadata": {},
   "outputs": [
    {
     "name": "stdout",
     "output_type": "stream",
     "text": [
      "DELETE FROM TEST_BASE.EXAMPLE WHERE name = 'Шахруз' and surname = 'Титов'\n",
      "Данные о Шахрузе Титове удалены из таблицы\n"
     ]
    }
   ],
   "source": [
    "try:\n",
    "    with connection.cursor() as cursor:\n",
    "        delete_table_query = \"DELETE FROM TEST_BASE.EXAMPLE WHERE name = 'Шахруз' and surname = 'Титов'\"\n",
    "        print(delete_table_query)\n",
    "        cursor.execute(delete_table_query)\n",
    "        connection.commit()\n",
    "        print(\"Данные о Шахрузе Титове удалены из таблицы\")\n",
    "except Exception as ex:\n",
    "    print(\"Не получается удалить данные\")\n"
   ]
  },
  {
   "cell_type": "code",
   "execution_count": 62,
   "metadata": {},
   "outputs": [
    {
     "name": "stdout",
     "output_type": "stream",
     "text": [
      "DROP TABLE TEST_BASE.EXAMPLE\n",
      "Таблица TEST_BASE.EXAMPLE удалена\n"
     ]
    }
   ],
   "source": [
    "try:\n",
    "    with connection.cursor() as cursor:\n",
    "        drop_table_query = \"DROP TABLE TEST_BASE.EXAMPLE\"\n",
    "        print(drop_table_query)\n",
    "        cursor.execute(drop_table_query)\n",
    "        connection.commit()\n",
    "        print(\"Таблица TEST_BASE.EXAMPLE удалена\")\n",
    "except Exception as ex:\n",
    "    print(\"Не получается удалить таблицу\")"
   ]
  },
  {
   "cell_type": "code",
   "execution_count": 63,
   "metadata": {},
   "outputs": [
    {
     "name": "stdout",
     "output_type": "stream",
     "text": [
      "DROP DATABASE TEST_BASE\n",
      "База TEST_BASE удалена\n"
     ]
    }
   ],
   "source": [
    "try:\n",
    "    with connection.cursor() as cursor:\n",
    "        drop_table_query = \"DROP DATABASE TEST_BASE\"\n",
    "        print(drop_table_query)\n",
    "        cursor.execute(drop_table_query)\n",
    "        connection.commit()\n",
    "        print(\"База TEST_BASE удалена\")\n",
    "except Exception as ex:\n",
    "    print(\"Не получается удалить базу\")"
   ]
  }
 ],
 "metadata": {
  "interpreter": {
   "hash": "54e90448c27e76c7f4df0a833daefb0a1549e26c03ed83ace35a855b38633a16"
  },
  "kernelspec": {
   "display_name": "Python 3.10.4 64-bit",
   "language": "python",
   "name": "python3"
  },
  "language_info": {
   "codemirror_mode": {
    "name": "ipython",
    "version": 3
   },
   "file_extension": ".py",
   "mimetype": "text/x-python",
   "name": "python",
   "nbconvert_exporter": "python",
   "pygments_lexer": "ipython3",
   "version": "3.10.4"
  },
  "orig_nbformat": 4
 },
 "nbformat": 4,
 "nbformat_minor": 2
}
