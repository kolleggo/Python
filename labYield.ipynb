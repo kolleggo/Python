{
 "cells": [
  {
   "cell_type": "code",
   "execution_count": 14,
   "metadata": {},
   "outputs": [
    {
     "name": "stdout",
     "output_type": "stream",
     "text": [
      "Введите положительное число!\n",
      "Введите положительное число!\n",
      "5\n",
      "4\n",
      "3\n",
      "2\n",
      "1\n"
     ]
    }
   ],
   "source": [
    "# Функция создания генератора\n",
    "def gen_constructor(n):\n",
    "    while n != 0:\n",
    "        yield n\n",
    "        n -= 1\n",
    "\n",
    "n = 0\n",
    "while not n or n <= 0:\n",
    "    try:\n",
    "        n = int(input(\"Введите число: \"))\n",
    "        if n <= 0:\n",
    "            raise Exception\n",
    "        \n",
    "        new_gen = gen_constructor(n)\n",
    "        # Вывод последовательности от n до 1\n",
    "        for i in new_gen:\n",
    "            print(i)\n",
    "\n",
    "    except Exception as ex:\n",
    "        print(\"Введите положительное число!\")\n",
    "\n",
    "\n"
   ]
  }
 ],
 "metadata": {
  "language_info": {
   "name": "python"
  },
  "orig_nbformat": 4
 },
 "nbformat": 4,
 "nbformat_minor": 2
}
